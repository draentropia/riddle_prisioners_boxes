{
 "cells": [
  {
   "cell_type": "code",
   "execution_count": 87,
   "id": "f8de88ab-74b0-4738-a023-20bb03c938ec",
   "metadata": {
    "tags": []
   },
   "outputs": [],
   "source": [
    "import random\n",
    "import numpy as np\n",
    "import matplotlib.pyplot as plt\n",
    "from matplotlib.ticker import PercentFormatter"
   ]
  },
  {
   "cell_type": "markdown",
   "id": "6bd6f5e2-384d-4314-99e9-ee6f5becaf8e",
   "metadata": {},
   "source": [
    "Some constant variables. Change them here:"
   ]
  },
  {
   "cell_type": "code",
   "execution_count": 173,
   "id": "56bc830a-d0bd-4199-bf0e-769902b07fe6",
   "metadata": {},
   "outputs": [],
   "source": [
    "PRISIONERS = 100\n",
    "RUNS = 10000\n",
    "BOXES_TO_OPEN = int(PRISIONERS / 2)\n",
    "verbosity = False"
   ]
  },
  {
   "cell_type": "markdown",
   "id": "94c62f45-d56e-4105-bfcc-c90fc25784ff",
   "metadata": {
    "tags": []
   },
   "source": [
    "Get a list from 1 to 100 in a random order without repetition for the number of the box and another for the number in the paper"
   ]
  },
  {
   "cell_type": "code",
   "execution_count": 20,
   "id": "961245d1-12df-4bbc-99b4-46c0f8c30297",
   "metadata": {},
   "outputs": [],
   "source": [
    "boxes = []\n",
    "for box in range(1,PRISIONERS+1):\n",
    "    boxes.append(box)\n",
    "random.shuffle(boxes)"
   ]
  },
  {
   "cell_type": "code",
   "execution_count": 21,
   "id": "d1dc1762-930a-4deb-a891-3e6dbf459e9b",
   "metadata": {},
   "outputs": [],
   "source": [
    "papers = []\n",
    "for paper in range(1,PRISIONERS+1):\n",
    "    papers.append(paper)\n",
    "random.shuffle(papers)"
   ]
  },
  {
   "cell_type": "markdown",
   "id": "ea9fed86-bf8c-40ee-8ccf-24984ff8c9eb",
   "metadata": {},
   "source": [
    "Make a dict containing the number of the box as key and the number of the paper as value"
   ]
  },
  {
   "cell_type": "code",
   "execution_count": 22,
   "id": "697316f2-107a-4b65-8132-72325c747944",
   "metadata": {},
   "outputs": [],
   "source": [
    "box_paper = {}\n",
    "for num in range(len(boxes)):\n",
    "    box_paper[boxes[num]] = papers[num]"
   ]
  },
  {
   "cell_type": "code",
   "execution_count": 23,
   "id": "394fa5d0-5bbd-40d5-9119-ccaaa323bf26",
   "metadata": {},
   "outputs": [
    {
     "data": {
      "text/plain": [
       "1000"
      ]
     },
     "execution_count": 23,
     "metadata": {},
     "output_type": "execute_result"
    }
   ],
   "source": [
    "len(box_paper)"
   ]
  },
  {
   "cell_type": "markdown",
   "id": "d678ba2b-d8b2-4a0d-80cb-99fb1218bc8c",
   "metadata": {},
   "source": [
    "Now each prisioner opens the half of the boxes starting by the box with his number and then the box with the number written in the paper"
   ]
  },
  {
   "cell_type": "code",
   "execution_count": 24,
   "id": "f98b9242-bfdd-4818-a09d-57d2c1180e8a",
   "metadata": {},
   "outputs": [
    {
     "data": {
      "text/plain": [
       "1000"
      ]
     },
     "execution_count": 24,
     "metadata": {},
     "output_type": "execute_result"
    }
   ],
   "source": [
    "results = []\n",
    "for prisioner in range(1, PRISIONERS+1):\n",
    "    next_box = box_paper[prisioner]\n",
    "    if verbosity:\n",
    "        print(\"Prisioner \", prisioner, \" starts opening his box and it found a paper with number \", next_box)\n",
    "    opened = 1\n",
    "    while (opened<=BOXES_TO_OPEN and next_box!=prisioner):\n",
    "        if verbosity:\n",
    "            print(\"next box to open\", next_box)\n",
    "        next_box = box_paper[next_box]\n",
    "        if verbosity:\n",
    "            if (next_box == prisioner) or (opened==BOXES_TO_OPEN):\n",
    "                print(\"all die\")\n",
    "        opened=opened+1\n",
    "    results.append(opened)\n",
    "len(results)"
   ]
  },
  {
   "cell_type": "code",
   "execution_count": 26,
   "id": "3f67a425-4055-463e-999f-7a7b2bd17fe3",
   "metadata": {},
   "outputs": [
    {
     "data": {
      "image/png": "[encoded data removed]",
      "text/plain": [
       "<Figure size 432x288 with 1 Axes>"
      ]
     },
     "metadata": {
      "needs_background": "light"
     },
     "output_type": "display_data"
    }
   ],
   "source": [
    "plt.hist(results, bins = 10)\n",
    "plt.show()"
   ]
  },
  {
   "cell_type": "code",
   "execution_count": 28,
   "id": "9ba3f80a-560a-4a5b-b750-180f624a0a20",
   "metadata": {},
   "outputs": [],
   "source": [
    "success = 0\n",
    "for res in results:\n",
    "    if res<=BOXES_TO_OPEN:\n",
    "        success= success+1"
   ]
  },
  {
   "cell_type": "markdown",
   "id": "13fcf6c8-5946-4772-9617-77ed3b358401",
   "metadata": {},
   "source": [
    "All together in a function to make several runs in once:"
   ]
  },
  {
   "cell_type": "code",
   "execution_count": 128,
   "id": "d99928e1-eacd-4561-9f07-b0094e5e1004",
   "metadata": {},
   "outputs": [],
   "source": [
    "# Code for one run:\n",
    "def riddle_prision():\n",
    "    boxes = []\n",
    "    for box in range(1,PRISIONERS+1):\n",
    "        boxes.append(box)\n",
    "    random.shuffle(boxes)\n",
    "    \n",
    "    papers = boxes\n",
    "    random.shuffle(papers)\n",
    "    \n",
    "    box_paper = {}\n",
    "    for num in range(len(boxes)):\n",
    "        box_paper[boxes[num]] = papers[num]\n",
    "        \n",
    "    opened_boxes = []\n",
    "    for prisioner in range(1, PRISIONERS+1):\n",
    "        next_box = box_paper[prisioner]\n",
    "        if verbosity:\n",
    "            print(\"Prisioner \", prisioner, \" starts opening his box and it found a paper with number \", next_box)\n",
    "        opened = 1\n",
    "        while (opened<=BOXES_TO_OPEN and next_box!=prisioner):\n",
    "            if verbosity:\n",
    "                print(\"next box to open\", next_box)\n",
    "            next_box = box_paper[next_box]\n",
    "            if verbosity:\n",
    "                if (next_box == prisioner) or (opened==BOXES_TO_OPEN):\n",
    "                    print(\"all die\")\n",
    "            opened=opened+1\n",
    "        opened_boxes.append(opened)\n",
    "        \n",
    "    for prisioner_open_boxes in opened_boxes:\n",
    "        if prisioner_open_boxes>BOXES_TO_OPEN:\n",
    "            return 0\n",
    "    return 1"
   ]
  },
  {
   "cell_type": "code",
   "execution_count": null,
   "id": "cc063542-0f21-4833-a509-82f899b18773",
   "metadata": {},
   "outputs": [],
   "source": [
    "### What if the same prisioners open 50 random boxes?"
   ]
  },
  {
   "cell_type": "code",
   "execution_count": 176,
   "id": "e457cb42-5811-4d39-abdf-346dc659d997",
   "metadata": {},
   "outputs": [],
   "source": [
    "def random_50_boxes():\n",
    "    boxes = []\n",
    "    for box in range(1,PRISIONERS+1):\n",
    "        boxes.append(box)\n",
    "    random.shuffle(boxes)\n",
    "    \n",
    "    papers = boxes\n",
    "    random.shuffle(papers)\n",
    "    \n",
    "    box_paper = {}\n",
    "    for num in range(len(boxes)):\n",
    "        box_paper[boxes[num]] = papers[num]\n",
    "        \n",
    "    choices = boxes\n",
    "    random.shuffle(choices)\n",
    "    choices = choices[BOXES_TO_OPEN:]\n",
    "    \n",
    "    for prisioner in range(1, PRISIONERS+1):\n",
    "        if prisioner not in choices:\n",
    "            return 0\n",
    "    print (\"success\")\n",
    "    return 1"
   ]
  },
  {
   "cell_type": "code",
   "execution_count": 177,
   "id": "ad8065dd-af52-4682-9691-d029ced0b9dd",
   "metadata": {},
   "outputs": [],
   "source": [
    "## Both examples"
   ]
  },
  {
   "cell_type": "code",
   "execution_count": 178,
   "id": "9703ecdf-fac8-45b9-b047-f35b250d4946",
   "metadata": {},
   "outputs": [
    {
     "name": "stdout",
     "output_type": "stream",
     "text": [
      "PRISIONERS:  100  , RUNS:  10000\n",
      "Using the num of the paper:  3096 30.959999999999997 %\n",
      "Opening random boxes:  0 0.0 %\n"
     ]
    }
   ],
   "source": [
    "print(\"PRISIONERS: \", PRISIONERS, \" , RUNS: \", RUNS)\n",
    "\n",
    "success_total = 0\n",
    "for run in range(RUNS):\n",
    "    success_total = success_total + riddle_prision()\n",
    "print (\"Using the num of the paper: \", success_total, success_total/RUNS*100,\"%\")\n",
    "\n",
    "success_total_random = 0\n",
    "for run in range(RUNS):\n",
    "    success_total_random = success_total_random + random_50_boxes()\n",
    "print (\"Opening random boxes: \", success_total_random, success_total_random/RUNS*100,\"%\")"
   ]
  }
 ],
 "metadata": {
  "kernelspec": {
   "display_name": "Python 3 (ipykernel)",
   "language": "python",
   "name": "python3"
  },
  "language_info": {
   "codemirror_mode": {
    "name": "ipython",
    "version": 3
   },
   "file_extension": ".py",
   "mimetype": "text/x-python",
   "name": "python",
   "nbconvert_exporter": "python",
   "pygments_lexer": "ipython3",
   "version": "3.9.12"
  }
 },
 "nbformat": 4,
 "nbformat_minor": 5
}
